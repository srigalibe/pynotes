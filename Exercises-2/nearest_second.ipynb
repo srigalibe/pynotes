{
 "cells": [
  {
   "cell_type": "markdown",
   "metadata": {},
   "source": [
    "[Nearest second](https://stackoverflow.com/a/47793075/8709791)\n",
    "\n",
    "Define a function that takes a list of data, rounds time off to the nearest second."
   ]
  },
  {
   "cell_type": "code",
   "execution_count": null,
   "metadata": {
    "collapsed": false
   },
   "outputs": [],
   "source": [
    "def round_seconds(dts):\n",
    "    \"\"\" Return time rounded off to the nearest second.\n",
    "    \n",
    "    data = ['2017-06-25 00:31:53.993',\n",
    "           '2017-06-25 00:32:31.224',\n",
    "           '2017-06-25 00:33:11.223',\n",
    "           '2017-06-25 00:33:53.876',\n",
    "           '2017-06-25 00:34:31.219',\n",
    "           '2017-06-25 00:35:12.634']\n",
    "    \n",
    "    >>> round_seconds(data)\n",
    "    ['2017-06-25 00:31:54',\n",
    "    '2017-06-25 00:32:31',\n",
    "    '2017-06-25 00:33:11',\n",
    "    '2017-06-25 00:33:54',\n",
    "    '2017-06-25 00:34:31',\n",
    "    '2017-06-25 00:35:13']\n",
    "    \"\"\"\n",
    "    \n",
    "    # your code here\n",
    "\n",
    "\n",
    "\n",
    "# Do not make any changes to the code below\n",
    "# Function used in main() to print \n",
    "# what each function returns vs. what it's supposed to return\n",
    "\n",
    "def test(returned, expected):\n",
    "    if returned == expected:\n",
    "        prefix = ' OK '\n",
    "    else:\n",
    "        prefix = '  X '\n",
    "    print('{0} returned: {1} expected: {2}'.format(prefix, repr(returned), repr(expected)))\n",
    "\n",
    "\n",
    "\n",
    "# Do not make any changes to the code below\n",
    "# Calls the above functions with interesting inputs.\n",
    "def main():\n",
    "    rounded = ['2017-06-25 00:31:54',\n",
    "              '2017-06-25 00:32:31',\n",
    "              '2017-06-25 00:33:11',\n",
    "              '2017-06-25 00:33:54',\n",
    "              '2017-06-25 00:34:31',\n",
    "              '2017-06-25 00:35:13']\n",
    "    \n",
    "    print('round_seconds')\n",
    "    test(round_seconds(data), rounded)\n",
    "    \n",
    "\n",
    "if __name__ == '__main__':\n",
    "    main()"
   ]
  }
 ],
 "metadata": {
  "kernelspec": {
   "display_name": "Python 3",
   "language": "python",
   "name": "python3"
  },
  "language_info": {
   "codemirror_mode": {
    "name": "ipython",
    "version": 3
   },
   "file_extension": ".py",
   "mimetype": "text/x-python",
   "name": "python",
   "nbconvert_exporter": "python",
   "pygments_lexer": "ipython3",
   "version": "3.6.0"
  }
 },
 "nbformat": 4,
 "nbformat_minor": 2
}
