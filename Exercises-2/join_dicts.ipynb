{
 "cells": [
  {
   "cell_type": "markdown",
   "metadata": {},
   "source": [
    "[Join two dictionaries with overlapping keys](https://stackoverflow.com/a/47466675/8709791)\n",
    "\n",
    "Define a function that takes two dictionaries with overlapping keys and returns a result as shown below."
   ]
  },
  {
   "cell_type": "code",
   "execution_count": null,
   "metadata": {
    "collapsed": false
   },
   "outputs": [],
   "source": [
    "def join_dicts(dict1, dict2):\n",
    "    \"\"\" Return dict1 after extending it with dict2\n",
    "    \n",
    "    >>> join_dicts({1:'a', 2:'b', 3:'c'}, {1:'d', 2:'e'})\n",
    "    {1: 'a', 2: 'b', 3: 'c', 4: 'd', 5: 'e'}\n",
    "    \"\"\"\n",
    "    \n",
    "    # Your code here\n",
    "\n",
    "\n",
    "\n",
    "\n",
    "# Do not make changes to the code below\n",
    "# Function used in main() to print \n",
    "# what each function returns vs. what it's supposed to return\n",
    "def test(returned, expected):\n",
    "    if returned == expected:\n",
    "        prefix = ' OK '\n",
    "    else:\n",
    "        prefix = '  X '\n",
    "    print('{0} returned: {1} expected: {2}'.format(prefix, repr(returned), repr(expected)))\n",
    "\n",
    "\n",
    "\n",
    "# Do not make changes to the code below\n",
    "# Calls the above functions with interesting inputs.\n",
    "def main():\n",
    "    print('join_dicts')\n",
    "    test(join_dicts({1:'a', 2:'b', 3:'c'}, {1:'d', 2:'e'}), {1: 'a', 2: 'b', 3: 'c', 4: 'd', 5: 'e'})\n",
    "    \n",
    "\n",
    "if __name__ == '__main__':\n",
    "    main()\n"
   ]
  }
 ],
 "metadata": {
  "kernelspec": {
   "display_name": "Python 3",
   "language": "python",
   "name": "python3"
  },
  "language_info": {
   "codemirror_mode": {
    "name": "ipython",
    "version": 3
   },
   "file_extension": ".py",
   "mimetype": "text/x-python",
   "name": "python",
   "nbconvert_exporter": "python",
   "pygments_lexer": "ipython3",
   "version": "3.6.0"
  }
 },
 "nbformat": 4,
 "nbformat_minor": 2
}
