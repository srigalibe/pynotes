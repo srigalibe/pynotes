{
 "cells": [
  {
   "cell_type": "markdown",
   "metadata": {},
   "source": [
    "[Get URL](https://stackoverflow.com/a/47790043/8709791)\n",
    "\n",
    "Define a function that takes a URL, removes the protocol string in it."
   ]
  },
  {
   "cell_type": "code",
   "execution_count": null,
   "metadata": {
    "collapsed": false
   },
   "outputs": [],
   "source": [
    "def get_url(url):\n",
    "    \"\"\" Remove the protocol string in the URL, return the remaining URL.\n",
    "    \n",
    "    >>> get_url('https://example.com/example')\n",
    "    example.com/example\n",
    "    \"\"\"\n",
    "    \n",
    "    # your code here\n",
    "\n",
    "\n",
    "\n",
    "\n",
    "# Do not make any changes to the code below\n",
    "# Function used in main() to print \n",
    "# what each function returns vs. what it's supposed to return\n",
    "\n",
    "def test(returned, expected):\n",
    "    if returned == expected:\n",
    "        prefix = ' OK '\n",
    "    else:\n",
    "        prefix = '  X '\n",
    "    print('{0} returned: {1} expected: {2}'.format(prefix, repr(returned), repr(expected)))\n",
    "\n",
    "\n",
    "\n",
    "# Do not make any changes to the code below\n",
    "# Calls the above functions with interesting inputs.\n",
    "def main():\n",
    "    print('get_url')\n",
    "    test(get_url('ftp://example.com/example'), 'example.com/example')\n",
    "    test(get_url('https://example.com/example'), 'example.com/example')\n",
    "    test(get_url('http://example.com/example'), 'example.com/example')\n",
    "    \n",
    "\n",
    "if __name__ == '__main__':\n",
    "    main()"
   ]
  }
 ],
 "metadata": {
  "kernelspec": {
   "display_name": "Python 3",
   "language": "python",
   "name": "python3"
  },
  "language_info": {
   "codemirror_mode": {
    "name": "ipython",
    "version": 3
   },
   "file_extension": ".py",
   "mimetype": "text/x-python",
   "name": "python",
   "nbconvert_exporter": "python",
   "pygments_lexer": "ipython3",
   "version": "3.6.0"
  }
 },
 "nbformat": 4,
 "nbformat_minor": 2
}
