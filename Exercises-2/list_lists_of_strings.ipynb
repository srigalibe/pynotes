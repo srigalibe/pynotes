{
 "cells": [
  {
   "cell_type": "markdown",
   "metadata": {},
   "source": [
    "[List of lists of strings](https://stackoverflow.com/a/47503231/8709791)\n",
    "\n",
    "Define a function that takes a list of lists of strings, returns a list of lists containing strings separated at a newline character."
   ]
  },
  {
   "cell_type": "code",
   "execution_count": null,
   "metadata": {
    "collapsed": false
   },
   "outputs": [],
   "source": [
    "def get_names(lsts):\n",
    "    \"\"\" Return a list of lists containing strings separated at a newline character.\n",
    "    \n",
    "    >>> get_names(['Mike','Angela','Bill','\\n','Robert','Pam','\\n'])\n",
    "    [['Mike', 'Angela', 'Bill'], ['Robert', 'Pam']]\n",
    "    \"\"\"\n",
    "    \n",
    "    # your code here\n",
    "\n",
    "\n",
    "\n",
    "# Do not make any changes to the code below\n",
    "# Function used in main() to print \n",
    "# what each function returns vs. what it's supposed to return\n",
    "\n",
    "def test(returned, expected):\n",
    "    if returned == expected:\n",
    "        prefix = ' OK '\n",
    "    else:\n",
    "        prefix = '  X '\n",
    "    print('{0} returned: {1} expected: {2}'.format(prefix, repr(returned), repr(expected)))\n",
    "\n",
    "\n",
    "# Do not make any changes to the code below\n",
    "# Calls the above functions with interesting inputs.\n",
    "def main():\n",
    "    print('get_names')\n",
    "    test(get_names(['Mike','Angela','Bill','\\n','Robert','Pam','\\n']), [['Mike', 'Angela', 'Bill'], ['Robert', 'Pam']])\n",
    "    \n",
    "\n",
    "if __name__ == '__main__':\n",
    "    main()\n"
   ]
  }
 ],
 "metadata": {
  "kernelspec": {
   "display_name": "Python 3",
   "language": "python",
   "name": "python3"
  },
  "language_info": {
   "codemirror_mode": {
    "name": "ipython",
    "version": 3
   },
   "file_extension": ".py",
   "mimetype": "text/x-python",
   "name": "python",
   "nbconvert_exporter": "python",
   "pygments_lexer": "ipython3",
   "version": "3.6.0"
  }
 },
 "nbformat": 4,
 "nbformat_minor": 2
}
