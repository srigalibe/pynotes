{
 "cells": [
  {
   "cell_type": "markdown",
   "metadata": {},
   "source": [
    "[Find files](https://stackoverflow.com/a/47840805/8709791)\n",
    "\n",
    "Define a function that takes the path to a directory and a list of file extensions, recursively looks for the files in the directory and its subdirectories and prints them if it finds any."
   ]
  },
  {
   "cell_type": "code",
   "execution_count": null,
   "metadata": {
    "collapsed": false
   },
   "outputs": [],
   "source": [
    "\n",
    "def find_files(dir_path, ext):\n",
    "    \"\"\" Recursively look for files with the extensions in the directory and \n",
    "        its subdirectories and print a list of them.\n",
    "    \n",
    "    >>> find_files(\"path/to/directory\", ['.py', '.json'])\n",
    "    path/to/directory/hello.py \n",
    "    path/to/directory/hello.json\n",
    "    path/to/directory/subdir/find_files.py\n",
    "    \"\"\"\n",
    "    \n",
    "    # your code here"
   ]
  }
 ],
 "metadata": {
  "kernelspec": {
   "display_name": "Python 3",
   "language": "python",
   "name": "python3"
  },
  "language_info": {
   "codemirror_mode": {
    "name": "ipython",
    "version": 3
   },
   "file_extension": ".py",
   "mimetype": "text/x-python",
   "name": "python",
   "nbconvert_exporter": "python",
   "pygments_lexer": "ipython3",
   "version": "3.6.0"
  }
 },
 "nbformat": 4,
 "nbformat_minor": 2
}
