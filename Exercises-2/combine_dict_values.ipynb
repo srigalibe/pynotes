{
 "cells": [
  {
   "cell_type": "markdown",
   "metadata": {},
   "source": [
    "[Combine dict values](https://stackoverflow.com/a/47729137/8709791)\n",
    "\n",
    "Define a function that takes a list of dicts and returns a dict with values added to existing keys."
   ]
  },
  {
   "cell_type": "code",
   "execution_count": null,
   "metadata": {
    "collapsed": false
   },
   "outputs": [],
   "source": [
    "def combine_dict_values(dict_list):\n",
    "    \"\"\" Return a dict with values added to existing keys\n",
    "    \n",
    "    d_list = [{'Money': .3, 'Strength': .25, 'Speed': .05},\n",
    "                {'Money': .3, 'Age': 25, 'Speed': .7}, \n",
    "                {'Money': .3, 'Strength': .25, 'Power': 5}]\n",
    "    \n",
    "    >>> combine_dict_values(d_list)\n",
    "    {'Age': 25,\n",
    "    'Money': 0.8999999999999999,\n",
    "    'Power': 5,\n",
    "    'Speed': 0.75,\n",
    "    'Strength': 0.5}\n",
    "    \"\"\"\n",
    "        \n",
    "    # your code here\n",
    "\n",
    "\n",
    "\n",
    "# Do not make any changes to the code below\n",
    "# Function used in main() to print \n",
    "# what each function returns vs. what it's supposed to return\n",
    "\n",
    "def test(returned, expected):\n",
    "    if returned == expected:\n",
    "        prefix = ' OK '\n",
    "    else:\n",
    "        prefix = '  X '\n",
    "    print('{0} returned: {1} expected: {2}'.format(prefix, repr(returned), repr(expected)))\n",
    "\n",
    "\n",
    "\n",
    "# Do not make any changes to the code below\n",
    "# Calls the above functions with interesting inputs.\n",
    "def main():\n",
    "    d_list = [{'Money': .3, 'Strength': .25, 'Speed': .05},\n",
    "                {'Money': .3, 'Age': 25, 'Speed': .7}, \n",
    "                {'Money': .3, 'Strength': .25, 'Power': 5}]\n",
    "    \n",
    "    result = {'Age': 25,\n",
    "              'Money': 0.8999999999999999,\n",
    "              'Power': 5,\n",
    "              'Speed': 0.75,\n",
    "              'Strength': 0.5}\n",
    "    \n",
    "    print('combine_dict_values')\n",
    "    test(combine_dict_values(d_list), result)\n",
    "    \n",
    "\n",
    "if __name__ == '__main__':\n",
    "    main()"
   ]
  }
 ],
 "metadata": {
  "kernelspec": {
   "display_name": "Python 3",
   "language": "python",
   "name": "python3"
  },
  "language_info": {
   "codemirror_mode": {
    "name": "ipython",
    "version": 3
   },
   "file_extension": ".py",
   "mimetype": "text/x-python",
   "name": "python",
   "nbconvert_exporter": "python",
   "pygments_lexer": "ipython3",
   "version": "3.6.0"
  }
 },
 "nbformat": 4,
 "nbformat_minor": 2
}
