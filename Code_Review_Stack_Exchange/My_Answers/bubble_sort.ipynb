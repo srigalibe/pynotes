{
 "cells": [
  {
   "cell_type": "markdown",
   "metadata": {},
   "source": [
    "#### [Sorting numbers with bubble sort](https://codereview.stackexchange.com/a/178345/149948)\n",
    "\n",
    "Define a function that takes a list of numbers and uses [bubble sort](https://en.wikipedia.org/wiki/Bubble_sort) algorithm to sort the numbers in ascending order."
   ]
  },
  {
   "cell_type": "code",
   "execution_count": 8,
   "metadata": {
    "collapsed": false
   },
   "outputs": [
    {
     "data": {
      "text/plain": [
       "[-19, 7, 14, 40]"
      ]
     },
     "execution_count": 8,
     "metadata": {},
     "output_type": "execute_result"
    }
   ],
   "source": [
    "from typing import Sequence\n",
    "\n",
    "def bubble_sort(numbers: Sequence) -> Sequence:\n",
    "    \"\"\" Use bubble sort to sort a list of numbers in ascending order.\n",
    "        Return the input list after mutating it with sorted numbers.\n",
    "    \n",
    "    >>> bubble_sort([2, 19, 4, 1, -40])\n",
    "    [-40, 1, 2, 4, 19]\n",
    "    >>> \n",
    "    \"\"\"\n",
    "    \n",
    "    end = len(numbers) - 1\n",
    "    \n",
    "    while end != 0:\n",
    "        \n",
    "        for i in range(end):\n",
    "            if numbers[i] > numbers[i + 1]:\n",
    "                numbers[i], numbers[i + 1] = numbers[i + 1], numbers[i]\n",
    "        \n",
    "        end = end - 1\n",
    "    \n",
    "    return numbers\n",
    "\n",
    "numbers = [14, -19, 7, 40]\n",
    "\n",
    "bubble_sort(numbers)"
   ]
  },
  {
   "cell_type": "code",
   "execution_count": 9,
   "metadata": {
    "collapsed": true
   },
   "outputs": [],
   "source": [
    "# Function used in main() to print \n",
    "# what each function returns vs. what it's supposed to return\n",
    "\n",
    "def test(returned, expected):\n",
    "    if returned == expected:\n",
    "        prefix = ' OK '\n",
    "    else:\n",
    "        prefix = '  X '\n",
    "    print('{0} returned: {1} expected: {2}'.format(prefix, repr(returned), repr(expected)))"
   ]
  },
  {
   "cell_type": "code",
   "execution_count": 11,
   "metadata": {
    "collapsed": false
   },
   "outputs": [
    {
     "name": "stdout",
     "output_type": "stream",
     "text": [
      "bubble_sort\n",
      " OK  returned: [-19, 7, 14, 40] expected: [-19, 7, 14, 40]\n",
      " OK  returned: [7, 9, 11] expected: [7, 9, 11]\n"
     ]
    }
   ],
   "source": [
    "# Calls the above functions with interesting inputs.\n",
    "def main():\n",
    "    print('bubble_sort')\n",
    "    test(bubble_sort([14, -19, 7, 40]), [-19, 7, 14, 40])\n",
    "    test(bubble_sort([7, 11, 9]), [7, 9, 11])    \n",
    "\n",
    "\n",
    "if __name__ == '__main__':\n",
    "    main()"
   ]
  }
 ],
 "metadata": {
  "kernelspec": {
   "display_name": "Python 3",
   "language": "python",
   "name": "python3"
  },
  "language_info": {
   "codemirror_mode": {
    "name": "ipython",
    "version": 3
   },
   "file_extension": ".py",
   "mimetype": "text/x-python",
   "name": "python",
   "nbconvert_exporter": "python",
   "pygments_lexer": "ipython3",
   "version": "3.6.0"
  }
 },
 "nbformat": 4,
 "nbformat_minor": 2
}
