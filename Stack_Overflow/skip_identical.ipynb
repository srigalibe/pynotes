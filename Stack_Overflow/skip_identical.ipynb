{
 "cells": [
  {
   "cell_type": "markdown",
   "metadata": {},
   "source": [
    "[Skip identical](https://stackoverflow.com/a/47830037/8709791)\n",
    "\n",
    "Define a function that takes a list of tuples and prints output as shown below."
   ]
  },
  {
   "cell_type": "code",
   "execution_count": null,
   "metadata": {
    "collapsed": false
   },
   "outputs": [],
   "source": [
    "def skip_identical(lst):\n",
    "    \"\"\" Print output as shown below.\n",
    "    \n",
    "    list_description = [('name1','species','description','country','n/a'),\n",
    "                        ('name1','species','description','country','plasmid1'),\n",
    "                        ('name1','species','description','country','plasmid2')]\n",
    "    \n",
    "    >>> skip_identical(list_description)\n",
    "    name1 species description country n/a\n",
    "                                      plasmid1\n",
    "                                      plasmid2\n",
    "    \"\"\"\n",
    "    \n",
    "    lengths = sum(len(item) for item in list_description[0])\n",
    "    \n",
    "    for i, tup in enumerate(list_description):    \n",
    "        if i == 0:\n",
    "            print(' '.join(tup[:-1]) + ' ' + tup[-1])        \n",
    "        else:\n",
    "            print(' ' * lengths + ' ' + tup[-1])\n",
    "\n",
    "list_description = [('name1','species','description','country','n/a'),\n",
    "                    ('name1','species','description','country','plasmid1'),\n",
    "                    ('name1','species','description','country','plasmid2')]\n",
    "\n",
    "skip_identical(list_description)"
   ]
  }
 ],
 "metadata": {
  "kernelspec": {
   "display_name": "Python 3",
   "language": "python",
   "name": "python3"
  },
  "language_info": {
   "codemirror_mode": {
    "name": "ipython",
    "version": 3
   },
   "file_extension": ".py",
   "mimetype": "text/x-python",
   "name": "python",
   "nbconvert_exporter": "python",
   "pygments_lexer": "ipython3",
   "version": "3.6.0"
  }
 },
 "nbformat": 4,
 "nbformat_minor": 2
}
