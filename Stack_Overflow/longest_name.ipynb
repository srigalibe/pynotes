{
 "cells": [
  {
   "cell_type": "markdown",
   "metadata": {},
   "source": [
    "Get the [longest name](https://stackoverflow.com/questions/46536666/get-longest-name-in-a-list-of-names/46537617#46537617) in a list of names"
   ]
  },
  {
   "cell_type": "markdown",
   "metadata": {},
   "source": [
    "<p>Return '******' if the input is [], [''], or a list containing names of equal length. Else, return the name that is greater in length than any other name in a list.</p>\n",
    "\n",
    "Here’s my code:"
   ]
  },
  {
   "cell_type": "code",
   "execution_count": 5,
   "metadata": {
    "collapsed": false
   },
   "outputs": [
    {
     "name": "stdout",
     "output_type": "stream",
     "text": [
      "******\n",
      "Jessie\n",
      "******\n",
      "******\n"
     ]
    }
   ],
   "source": [
    "def get_longest_name(a_list):\n",
    "    \"\"\" Return '******' if the input list is [], [''], or a list containing names of equal length.\n",
    "    Else, return the name that is greater in length than any other name in the list.\n",
    "    \n",
    "    >>> get_longest_name([\"Candide\", \"Jessie\", \"Kath\", \"Amity\", \"Raeanne\"])\n",
    "    >>> '******'\n",
    "    >>> get_longest_name([\"Jessie\", \"Kath\", \"Amity\", \"Raeanne\"])\n",
    "    >>> 'Raeanne'\n",
    "    \"\"\"\n",
    "    \n",
    "    longest_name = '******'\n",
    "\n",
    "    if not a_list:\n",
    "        return longest_name\n",
    "\n",
    "    max_length = max([len(name) for name in a_list])\n",
    "    duplicate_lengths = [name for name in a_list if len(name) == max_length]\n",
    "\n",
    "    if a_list == [''] or len(duplicate_lengths) > 1:\n",
    "        longest_name = longest_name\n",
    "    else:\n",
    "        longest_name = ''.join(duplicate_lengths)\n",
    "\n",
    "    return longest_name\n",
    "\n",
    "print(get_longest_name([\"Candide\", \"Jessie\", \"Kath\", \"Amity\", \"Raeanne\"]))\n",
    "print(get_longest_name([\"Jessie\", \"Kath\", \"Amity\"]))\n",
    "print(get_longest_name([]))\n",
    "print(get_longest_name(['']))"
   ]
  },
  {
   "cell_type": "code",
   "execution_count": 6,
   "metadata": {
    "collapsed": true
   },
   "outputs": [],
   "source": [
    "# Function used in main() to print \n",
    "# what each function returns vs. what it's supposed to return\n",
    "\n",
    "def test(returned, expected):\n",
    "    if returned == expected:\n",
    "        prefix = ' OK '\n",
    "    else:\n",
    "        prefix = '  X '\n",
    "    print('{0} returned: {1} expected: {2}'.format(prefix, repr(returned), repr(expected)))"
   ]
  },
  {
   "cell_type": "code",
   "execution_count": 7,
   "metadata": {
    "collapsed": false
   },
   "outputs": [
    {
     "name": "stdout",
     "output_type": "stream",
     "text": [
      "get_longest_name\n",
      " OK  returned: '******' expected: '******'\n",
      " OK  returned: 'Jessie' expected: 'Jessie'\n",
      " OK  returned: '******' expected: '******'\n",
      " OK  returned: '******' expected: '******'\n"
     ]
    }
   ],
   "source": [
    "# Calls the above functions with interesting inputs.\n",
    "def main():\n",
    "    print('get_longest_name')\n",
    "    test(get_longest_name([\"Candide\", \"Jessie\", \"Kath\", \"Amity\", \"Raeanne\"]), '******')\n",
    "    test(get_longest_name([\"Jessie\", \"Kath\", \"Amity\"]), 'Jessie')\n",
    "    test(get_longest_name([]), '******')\n",
    "    test(get_longest_name(['']), '******')\n",
    "\n",
    "\n",
    "if __name__ == '__main__':\n",
    "    main()"
   ]
  }
 ],
 "metadata": {
  "kernelspec": {
   "display_name": "Python 3",
   "language": "python",
   "name": "python3"
  },
  "language_info": {
   "codemirror_mode": {
    "name": "ipython",
    "version": 3
   },
   "file_extension": ".py",
   "mimetype": "text/x-python",
   "name": "python",
   "nbconvert_exporter": "python",
   "pygments_lexer": "ipython3",
   "version": "3.6.0"
  }
 },
 "nbformat": 4,
 "nbformat_minor": 2
}
