{
 "cells": [
  {
   "cell_type": "markdown",
   "metadata": {},
   "source": [
    "[Armstrong number](https://stackoverflow.com/a/47377083/8709791)\n",
    "\n",
    "Define a function that takes a number, returns True if the sum of the cubes of its digits is equal to the number itself, else returns False."
   ]
  },
  {
   "cell_type": "code",
   "execution_count": 1,
   "metadata": {
    "collapsed": false
   },
   "outputs": [
    {
     "data": {
      "text/plain": [
       "True"
      ]
     },
     "execution_count": 1,
     "metadata": {},
     "output_type": "execute_result"
    }
   ],
   "source": [
    "def add_cubes(number):    \n",
    "    \"\"\" Return True if the sum of the cubes of the digits in the number\n",
    "        is equal to the number itself, else return False.\n",
    "    \n",
    "    >>> add_cubes(153)\n",
    "    True    \n",
    "    \"\"\"\n",
    "    \n",
    "    total = 0\n",
    "    for i in str(number):\n",
    "        total += int(i) ** 3\n",
    "    \n",
    "    return total == number\n",
    "\n",
    "add_cubes(153)"
   ]
  },
  {
   "cell_type": "code",
   "execution_count": 2,
   "metadata": {
    "collapsed": true
   },
   "outputs": [],
   "source": [
    "# Function used in main() to print \n",
    "# what each function returns vs. what it's supposed to return\n",
    "\n",
    "def test(returned, expected):\n",
    "    if returned == expected:\n",
    "        prefix = ' OK '\n",
    "    else:\n",
    "        prefix = '  X '\n",
    "    print('{0} returned: {1} expected: {2}'.format(prefix, repr(returned), repr(expected)))"
   ]
  },
  {
   "cell_type": "code",
   "execution_count": 5,
   "metadata": {
    "collapsed": false
   },
   "outputs": [
    {
     "name": "stdout",
     "output_type": "stream",
     "text": [
      "add_cubes\n",
      " OK  returned: True expected: True\n",
      " OK  returned: True expected: True\n",
      " OK  returned: True expected: True\n",
      " OK  returned: False expected: False\n"
     ]
    }
   ],
   "source": [
    "# Calls the above functions with interesting inputs.\n",
    "def main():\n",
    "    print('add_cubes')\n",
    "    test(add_cubes(153), True)\n",
    "    test(add_cubes(370), True)\n",
    "    test(add_cubes(407), True)\n",
    "    test(add_cubes(150), False)\n",
    "    \n",
    "\n",
    "if __name__ == '__main__':\n",
    "    main()"
   ]
  },
  {
   "cell_type": "code",
   "execution_count": null,
   "metadata": {
    "collapsed": true
   },
   "outputs": [],
   "source": []
  }
 ],
 "metadata": {
  "kernelspec": {
   "display_name": "Python 3",
   "language": "python",
   "name": "python3"
  },
  "language_info": {
   "codemirror_mode": {
    "name": "ipython",
    "version": 3
   },
   "file_extension": ".py",
   "mimetype": "text/x-python",
   "name": "python",
   "nbconvert_exporter": "python",
   "pygments_lexer": "ipython3",
   "version": "3.6.0"
  }
 },
 "nbformat": 4,
 "nbformat_minor": 2
}
