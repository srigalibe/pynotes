{
 "cells": [
  {
   "cell_type": "markdown",
   "metadata": {},
   "source": [
    "[Dictionary of dictionaries](https://stackoverflow.com/a/47566199/8709791)\n",
    "\n",
    "Define a function that takes a dictionary of dictionaries with their values being a list of dictionary, returns dictionary keys and the values of the dictionaries in their list values."
   ]
  },
  {
   "cell_type": "code",
   "execution_count": null,
   "metadata": {
    "collapsed": false
   },
   "outputs": [],
   "source": [
    "def country_host(dic, continent=\"Europe\", name=\"hostname\"):\n",
    "    \"\"\" Return countries, host statuses.\n",
    "    \n",
    "    >>> country_host({\"Europe\":\n",
    "                    {\"Germany\": [{\"hostname\": \"host1\"}],\n",
    "                    \"Poland\": [{\"hostname\": \"host2\"}],\n",
    "                    \"Denmark\": [{\"hostname\": \"host3\"}]}})\n",
    "    [(Germany, host1), (Poland, host2), (Denmark, host3)]\n",
    "    \n",
    "    \"\"\"\n",
    "    \n",
    "    result = []\n",
    "    \n",
    "    for k, v in dic[continent].items():\n",
    "        result.append((k, v[0][name]))\n",
    "    \n",
    "    return result\n",
    "\n",
    "country_host({\"Europe\":\n",
    "            {\"Germany\": [{\"hostname\": \"host1\"}],\n",
    "             \"Poland\": [{\"hostname\": \"host2\"}],\n",
    "             \"Denmark\": [{\"hostname\": \"host3\"}]}})"
   ]
  },
  {
   "cell_type": "code",
   "execution_count": null,
   "metadata": {
    "collapsed": true
   },
   "outputs": [],
   "source": [
    "# Function used in main() to print \n",
    "# what each function returns vs. what it's supposed to return\n",
    "\n",
    "def test(returned, expected):\n",
    "    if returned == expected:\n",
    "        prefix = ' OK '\n",
    "    else:\n",
    "        prefix = '  X '\n",
    "    print('{0} returned: {1} expected: {2}'.format(prefix, repr(returned), repr(expected)))"
   ]
  },
  {
   "cell_type": "code",
   "execution_count": null,
   "metadata": {
    "collapsed": false
   },
   "outputs": [],
   "source": [
    "# Calls the above functions with interesting inputs.\n",
    "def main():\n",
    "    print('country_host')\n",
    "    test(country_host({\"Europe\":\n",
    "            {\"Germany\": [{\"hostname\": \"host1\"}],\n",
    "             \"Poland\": [{\"hostname\": \"host2\"}],\n",
    "             \"Denmark\": [{\"hostname\": \"host3\"}]}}), [('Germany', 'host1'), ('Poland', 'host2'), ('Denmark', 'host3')])\n",
    "    \n",
    "\n",
    "if __name__ == '__main__':\n",
    "    main()"
   ]
  },
  {
   "cell_type": "code",
   "execution_count": null,
   "metadata": {
    "collapsed": true
   },
   "outputs": [],
   "source": []
  }
 ],
 "metadata": {
  "kernelspec": {
   "display_name": "Python 3",
   "language": "python",
   "name": "python3"
  },
  "language_info": {
   "codemirror_mode": {
    "name": "ipython",
    "version": 3
   },
   "file_extension": ".py",
   "mimetype": "text/x-python",
   "name": "python",
   "nbconvert_exporter": "python",
   "pygments_lexer": "ipython3",
   "version": "3.6.0"
  }
 },
 "nbformat": 4,
 "nbformat_minor": 2
}
