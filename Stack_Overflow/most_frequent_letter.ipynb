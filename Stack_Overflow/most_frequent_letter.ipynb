{
 "cells": [
  {
   "cell_type": "markdown",
   "metadata": {},
   "source": [
    "[Count the most frequent letter in a string](https://stackoverflow.com/a/47252229/8709791)\n",
    "\n",
    "Define a function that takes some text and returns the most frequent letter in it."
   ]
  },
  {
   "cell_type": "code",
   "execution_count": null,
   "metadata": {
    "collapsed": false
   },
   "outputs": [],
   "source": [
    "from collections import Counter\n",
    "\n",
    "def find_most_frequent_letter(text):\n",
    "    \"\"\" Return the most frequent letter in text.\n",
    "    \n",
    "    >>> find_most_frequent_letter(\"This is a super long long long string. Please help count me\")\n",
    "    ('s', 5)\n",
    "    \"\"\"\n",
    "    \n",
    "    d = Counter(text.replace(' ', '').lower())        \n",
    "    return d.most_common()[0]\n",
    "\n",
    "find_most_frequent_letter(\"This is a super long long long string. Please help count me\")"
   ]
  },
  {
   "cell_type": "code",
   "execution_count": null,
   "metadata": {
    "collapsed": true
   },
   "outputs": [],
   "source": [
    "# Function used in main() to print \n",
    "# what each function returns vs. what it's supposed to return\n",
    "\n",
    "def test(returned, expected):\n",
    "    if returned == expected:\n",
    "        prefix = ' OK '\n",
    "    else:\n",
    "        prefix = '  X '\n",
    "    print('{0} returned: {1} expected: {2}'.format(prefix, repr(returned), repr(expected)))"
   ]
  },
  {
   "cell_type": "code",
   "execution_count": null,
   "metadata": {
    "collapsed": false
   },
   "outputs": [],
   "source": [
    "# Calls the above functions with interesting inputs.\n",
    "def main():\n",
    "    print('find_most_frequent_letter')\n",
    "    test(find_most_frequent_letter(\"This is a super long long long string. Please help count me\"), ('s', 5))\n",
    "    \n",
    "\n",
    "if __name__ == '__main__':\n",
    "    main()"
   ]
  }
 ],
 "metadata": {
  "kernelspec": {
   "display_name": "Python 3",
   "language": "python",
   "name": "python3"
  },
  "language_info": {
   "codemirror_mode": {
    "name": "ipython",
    "version": 3
   },
   "file_extension": ".py",
   "mimetype": "text/x-python",
   "name": "python",
   "nbconvert_exporter": "python",
   "pygments_lexer": "ipython3",
   "version": "3.6.0"
  }
 },
 "nbformat": 4,
 "nbformat_minor": 2
}
