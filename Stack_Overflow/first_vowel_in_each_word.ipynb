{
 "cells": [
  {
   "cell_type": "markdown",
   "metadata": {},
   "source": [
    "#### [First vowel in each word of a string](https://stackoverflow.com/a/46883633/8709791)\n",
    "\n",
    "Define a function that finds the first vowel in each word of a string."
   ]
  },
  {
   "cell_type": "code",
   "execution_count": 3,
   "metadata": {
    "collapsed": false
   },
   "outputs": [
    {
     "data": {
      "text/plain": [
       "'u, o, o'"
      ]
     },
     "execution_count": 3,
     "metadata": {},
     "output_type": "execute_result"
    }
   ],
   "source": [
    "def find_first_vowel(S: str) -> str:\n",
    "    \"\"\" Return the first vowel in each word of a string.\n",
    "    \n",
    "    >>> find_first_vowel(\"The sky's the limit\")\n",
    "    'e, e, i'\n",
    "    \"\"\"\n",
    "    \n",
    "    first_vowels = ''\n",
    "    \n",
    "    for word in S.split():        \n",
    "        for index, char in enumerate(word):            \n",
    "            if char in 'aeiouAEIOU':    # you can check the index here                \n",
    "                first_vowels += char                \n",
    "                break\n",
    "                \n",
    "    return ', '.join(first_vowels)\n",
    "\n",
    "\n",
    "find_first_vowel(\"hunt for vowels\")"
   ]
  },
  {
   "cell_type": "code",
   "execution_count": 5,
   "metadata": {
    "collapsed": true
   },
   "outputs": [],
   "source": [
    "# Function used in main() to print \n",
    "# what each function returns vs. what it's supposed to return\n",
    "\n",
    "def test(returned, expected):\n",
    "    if returned == expected:\n",
    "        prefix = ' OK '\n",
    "    else:\n",
    "        prefix = '  X '\n",
    "    print('{0} returned: {1} expected: {2}'.format(prefix, repr(returned), repr(expected)))"
   ]
  },
  {
   "cell_type": "code",
   "execution_count": 7,
   "metadata": {
    "collapsed": false
   },
   "outputs": [
    {
     "name": "stdout",
     "output_type": "stream",
     "text": [
      "find_first_vowel\n",
      " OK  returned: 'e, e, i' expected: 'e, e, i'\n",
      " OK  returned: 'u, o, o' expected: 'u, o, o'\n"
     ]
    }
   ],
   "source": [
    "# Calls the above functions with interesting inputs.\n",
    "def main():\n",
    "    print('find_first_vowel')\n",
    "    test(find_first_vowel(\"The sky's the limit\"), 'e, e, i')\n",
    "    test(find_first_vowel(\"hunt for vowels\"), 'u, o, o')    \n",
    "\n",
    "\n",
    "if __name__ == '__main__':\n",
    "    main()"
   ]
  }
 ],
 "metadata": {
  "kernelspec": {
   "display_name": "Python 3",
   "language": "python",
   "name": "python3"
  },
  "language_info": {
   "codemirror_mode": {
    "name": "ipython",
    "version": 3
   },
   "file_extension": ".py",
   "mimetype": "text/x-python",
   "name": "python",
   "nbconvert_exporter": "python",
   "pygments_lexer": "ipython3",
   "version": "3.6.0"
  }
 },
 "nbformat": 4,
 "nbformat_minor": 2
}
