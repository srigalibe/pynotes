{
 "cells": [
  {
   "cell_type": "markdown",
   "metadata": {},
   "source": [
    "[Flatten lists of variable depths](https://stackoverflow.com/a/47208236/8709791)\n",
    "\n",
    "Define a function that takes lists of variable depths, each having a combination of (a) strings, (b) empty list, or (c) a list containing one string, transforms the inner lists so they only contain the strings.\n"
   ]
  },
  {
   "cell_type": "code",
   "execution_count": null,
   "metadata": {
    "collapsed": false
   },
   "outputs": [],
   "source": [
    "def flatten(a_list):\n",
    "    \"\"\" Return a list after transforming the inner lists so they only contain strings.\n",
    "    \n",
    "    >>> flatten([[[],[\"a\"],\"a\"],[[\"ab\"],[],\"abc\"]])\n",
    "    [['', 'a', 'a'], ['ab', '', 'abc']]\n",
    "    \"\"\"\n",
    "    \n",
    "    result = [['' if not item else ''.join(item) for item in sublist] for sublist in a_list]\n",
    "    return result\n",
    "\n",
    "flatten([[[],[\"a\"],\"a\"],[[\"ab\"],[],\"abc\"]])"
   ]
  },
  {
   "cell_type": "code",
   "execution_count": null,
   "metadata": {
    "collapsed": true
   },
   "outputs": [],
   "source": [
    "# Function used in main() to print \n",
    "# what each function returns vs. what it's supposed to return\n",
    "\n",
    "def test(returned, expected):\n",
    "    if returned == expected:\n",
    "        prefix = ' OK '\n",
    "    else:\n",
    "        prefix = '  X '\n",
    "    print('{0} returned: {1} expected: {2}'.format(prefix, repr(returned), repr(expected)))"
   ]
  },
  {
   "cell_type": "code",
   "execution_count": null,
   "metadata": {
    "collapsed": false
   },
   "outputs": [],
   "source": [
    "# Calls the above functions with interesting inputs.\n",
    "def main():\n",
    "    print('flatten')\n",
    "    test(flatten([[[],[\"a\"],\"a\"],[[\"ab\"],[],\"abc\"]]), [['', 'a', 'a'], ['ab', '', 'abc']])\n",
    "    \n",
    "\n",
    "if __name__ == '__main__':\n",
    "    main()"
   ]
  }
 ],
 "metadata": {
  "kernelspec": {
   "display_name": "Python 3",
   "language": "python",
   "name": "python3"
  },
  "language_info": {
   "codemirror_mode": {
    "name": "ipython",
    "version": 3
   },
   "file_extension": ".py",
   "mimetype": "text/x-python",
   "name": "python",
   "nbconvert_exporter": "python",
   "pygments_lexer": "ipython3",
   "version": "3.6.0"
  }
 },
 "nbformat": 4,
 "nbformat_minor": 2
}
