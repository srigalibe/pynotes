{
 "cells": [
  {
   "cell_type": "markdown",
   "metadata": {},
   "source": [
    "[Copy from a text file and write to another file, with lines numbered](https://stackoverflow.com/a/47389740/8709791)\n",
    "\n",
    "Read from a text file named cities.txt with capitals and countries:\n",
    "\n",
    "Aberdeen, Scotland\n",
    "<br>\n",
    "Adelaide, Australia\n",
    "<br>\n",
    "Algiers, Algeria\n",
    "\n",
    "\n",
    "Write to another text file named out.txt these contents numbered:\n",
    "\n",
    "\n",
    "1: Aberdeen, Scotland\n",
    "<br>\n",
    "2: Adelaide, Australia\n",
    "<br>\n",
    "3: Algiers, Algeria"
   ]
  },
  {
   "cell_type": "code",
   "execution_count": null,
   "metadata": {
    "collapsed": true
   },
   "outputs": [],
   "source": [
    "with open('cities.txt') as infile, open('out.txt', 'w') as outfile:\n",
    "    in_lines = infile.readlines()\n",
    "    for i, line in enumerate(in_lines, start=1):\n",
    "        outfile.write('{}: {}'.format(i, line))\n",
    "\n",
    "\n"
   ]
  }
 ],
 "metadata": {
  "kernelspec": {
   "display_name": "Python 3",
   "language": "python",
   "name": "python3"
  },
  "language_info": {
   "codemirror_mode": {
    "name": "ipython",
    "version": 3
   },
   "file_extension": ".py",
   "mimetype": "text/x-python",
   "name": "python",
   "nbconvert_exporter": "python",
   "pygments_lexer": "ipython3",
   "version": "3.6.0"
  }
 },
 "nbformat": 4,
 "nbformat_minor": 2
}
