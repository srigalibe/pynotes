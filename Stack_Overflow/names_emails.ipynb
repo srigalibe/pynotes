{
 "cells": [
  {
   "cell_type": "markdown",
   "metadata": {},
   "source": [
    "[names_emails](https://stackoverflow.com/a/47648298/8709791)\n",
    "\n",
    "Define a function that takes a textfile, reads its lines, extracts name and email from each line."
   ]
  },
  {
   "cell_type": "code",
   "execution_count": 9,
   "metadata": {
    "collapsed": false
   },
   "outputs": [
    {
     "data": {
      "text/html": [
       "<img src=\"https://i.stack.imgur.com/3CHKp.png\"/>"
      ],
      "text/plain": [
       "<IPython.core.display.Image object>"
      ]
     },
     "execution_count": 9,
     "metadata": {},
     "output_type": "execute_result"
    }
   ],
   "source": [
    "from IPython.display import Image\n",
    "from IPython.core.display import HTML\n",
    "Image(url=\"https://i.stack.imgur.com/3CHKp.png\")\n",
    "# If you do not see the image below, please go to https://i.stack.imgur.com/3CHKp.png\n",
    "# Create a textfile named test.txt with these two lines in it"
   ]
  },
  {
   "cell_type": "code",
   "execution_count": null,
   "metadata": {
    "collapsed": false
   },
   "outputs": [],
   "source": [
    "def get_contacts(filename):\n",
    "    \"\"\" Return names and emails extracted from the textfile.\n",
    "    \n",
    "    >>> get_contacts('test.txt')\n",
    "    (['Oleg', 'Tomash'], ['oserdyuk@aligngeneral.com', 'tbarbarasz@aligngeneral.com'])\n",
    "    \"\"\"\n",
    "    names = []\n",
    "    emails = []\n",
    "\n",
    "    with open(filename) as contacts_file:\n",
    "        for a_contact in contacts_file.readlines():\n",
    "            name, email = a_contact.strip().split(', ')\n",
    "            names.append(name)\n",
    "            emails.append(email)\n",
    "\n",
    "    return names, emails\n",
    "\n",
    "get_contacts('test.txt') # (['Oleg', 'Tomash'], ['oserdyuk@aligngeneral.com', 'tbarbarasz@aligngeneral.com'])"
   ]
  },
  {
   "cell_type": "code",
   "execution_count": null,
   "metadata": {
    "collapsed": true
   },
   "outputs": [],
   "source": [
    "# Function used in main() to print \n",
    "# what each function returns vs. what it's supposed to return\n",
    "\n",
    "def test(returned, expected):\n",
    "    if returned == expected:\n",
    "        prefix = ' OK '\n",
    "    else:\n",
    "        prefix = '  X '\n",
    "    print('{0} returned: {1} expected: {2}'.format(prefix, repr(returned), repr(expected)))"
   ]
  },
  {
   "cell_type": "code",
   "execution_count": null,
   "metadata": {
    "collapsed": false
   },
   "outputs": [],
   "source": [
    "# Calls the above functions with interesting inputs.\n",
    "def main():\n",
    "    print('get_contacts')\n",
    "    test(get_contacts('test.txt'), (['Oleg', 'Tomash'], ['oserdyuk@aligngeneral.com', 'tbarbarasz@aligngeneral.com']))\n",
    "    \n",
    "\n",
    "if __name__ == '__main__':\n",
    "    main()"
   ]
  }
 ],
 "metadata": {
  "kernelspec": {
   "display_name": "Python 3",
   "language": "python",
   "name": "python3"
  },
  "language_info": {
   "codemirror_mode": {
    "name": "ipython",
    "version": 3
   },
   "file_extension": ".py",
   "mimetype": "text/x-python",
   "name": "python",
   "nbconvert_exporter": "python",
   "pygments_lexer": "ipython3",
   "version": "3.6.0"
  }
 },
 "nbformat": 4,
 "nbformat_minor": 2
}
