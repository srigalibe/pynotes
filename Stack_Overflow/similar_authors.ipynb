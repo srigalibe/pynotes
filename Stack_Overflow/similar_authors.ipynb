{
 "cells": [
  {
   "cell_type": "markdown",
   "metadata": {},
   "source": [
    "[Similar authors](https://stackoverflow.com/a/47667335/8709791)\n",
    "\n",
    "Define a function that takes a dictionary of authors and returns a list of similar authors."
   ]
  },
  {
   "cell_type": "code",
   "execution_count": null,
   "metadata": {
    "collapsed": false
   },
   "outputs": [],
   "source": [
    "def get_similar(author_list, author):\n",
    "    \"\"\" Return a list of similar authors\n",
    "    \n",
    "    \n",
    "    authors = {'Ray Bradbury': ['Harlan Ellison', 'Robert Heinlein', 'Isaac Asimov', 'Arthur Clarke'],\n",
    "    'Harlan Ellison': ['Neil Stephenson', 'Kurt Vonnegut', 'Richard Morgan', 'Douglas Adams'],\n",
    "    'Kurt Vonnegut': ['Terry Pratchett', 'Tom Robbins', 'Douglas Adams', 'Neil Stephenson', 'Jeff Vandemeer'],\n",
    "    'Thomas Pynchon': ['Isaac Asimov', 'Jorges Borges', 'Robert Heinlein'],\n",
    "    'Isaac Asimov': ['Stephen Baxter', 'Ray Bradbury', 'Arthur Clarke', 'Kurt Vonnegut', 'Neil Stephenson'],\n",
    "    'Douglas Adams': ['Terry Pratchett', 'Chris Moore', 'Kurt Vonnegut']}\n",
    "    \n",
    "    >>> get_similar(authors, 'Harlan Ellison')\n",
    "    ['Chris Moore', 'Douglas Adams', 'Jeff Vandemeer', 'Kurt Vonnegut', 'Neil Stephenson', 'Terry Pratchett', 'Terry Pratchett', 'Tom Robbins']\n",
    "    \"\"\"\n",
    "    \n",
    "    similar = [author_list[auth] for auth in author_list[author] if auth in author_list]\n",
    "\n",
    "    # Merge the lists and sort the authors. Do not include parameter author\n",
    "    return sorted(auth for sub in similar for auth in sub if auth != author)\n",
    "\n",
    "authors = {'Ray Bradbury': ['Harlan Ellison', 'Robert Heinlein', 'Isaac Asimov', 'Arthur Clarke'],\n",
    "    'Harlan Ellison': ['Neil Stephenson', 'Kurt Vonnegut', 'Richard Morgan', 'Douglas Adams'],\n",
    "    'Kurt Vonnegut': ['Terry Pratchett', 'Tom Robbins', 'Douglas Adams', 'Neil Stephenson', 'Jeff Vandemeer'],\n",
    "    'Thomas Pynchon': ['Isaac Asimov', 'Jorges Borges', 'Robert Heinlein'],\n",
    "    'Isaac Asimov': ['Stephen Baxter', 'Ray Bradbury', 'Arthur Clarke', 'Kurt Vonnegut', 'Neil Stephenson'],\n",
    "    'Douglas Adams': ['Terry Pratchett', 'Chris Moore', 'Kurt Vonnegut']}\n",
    "\n",
    "get_similar(authors, 'Ray Bradbury')  # There's 'Ray Bradbury' in the values of 'Isaac Asimov'"
   ]
  },
  {
   "cell_type": "code",
   "execution_count": null,
   "metadata": {
    "collapsed": true
   },
   "outputs": [],
   "source": [
    "# Function used in main() to print \n",
    "# what each function returns vs. what it's supposed to return\n",
    "\n",
    "def test(returned, expected):\n",
    "    if returned == expected:\n",
    "        prefix = ' OK '\n",
    "    else:\n",
    "        prefix = '  X '\n",
    "    print('{0} returned: {1} expected: {2}'.format(prefix, repr(returned), repr(expected)))\n"
   ]
  },
  {
   "cell_type": "code",
   "execution_count": null,
   "metadata": {
    "collapsed": false
   },
   "outputs": [],
   "source": [
    "# Calls the above functions with interesting inputs.\n",
    "def main():\n",
    "    print('get_similar')\n",
    "    \n",
    "    authors = {'Ray Bradbury': ['Harlan Ellison', 'Robert Heinlein', 'Isaac Asimov', 'Arthur Clarke'],\n",
    "    'Harlan Ellison': ['Neil Stephenson', 'Kurt Vonnegut', 'Richard Morgan', 'Douglas Adams'],\n",
    "    'Kurt Vonnegut': ['Terry Pratchett', 'Tom Robbins', 'Douglas Adams', 'Neil Stephenson', 'Jeff Vandemeer'],\n",
    "    'Thomas Pynchon': ['Isaac Asimov', 'Jorges Borges', 'Robert Heinlein'],\n",
    "    'Isaac Asimov': ['Stephen Baxter', 'Ray Bradbury', 'Arthur Clarke', 'Kurt Vonnegut', 'Neil Stephenson'],\n",
    "    'Douglas Adams': ['Terry Pratchett', 'Chris Moore', 'Kurt Vonnegut']}\n",
    "    \n",
    "    test(get_similar(authors, 'Harlan Ellison'), ['Chris Moore', 'Douglas Adams', 'Jeff Vandemeer', 'Kurt Vonnegut', 'Neil Stephenson', 'Terry Pratchett', 'Terry Pratchett', 'Tom Robbins'])\n",
    "    \n",
    "\n",
    "if __name__ == '__main__':\n",
    "    main()"
   ]
  }
 ],
 "metadata": {
  "kernelspec": {
   "display_name": "Python 3",
   "language": "python",
   "name": "python3"
  },
  "language_info": {
   "codemirror_mode": {
    "name": "ipython",
    "version": 3
   },
   "file_extension": ".py",
   "mimetype": "text/x-python",
   "name": "python",
   "nbconvert_exporter": "python",
   "pygments_lexer": "ipython3",
   "version": "3.6.0"
  }
 },
 "nbformat": 4,
 "nbformat_minor": 2
}
