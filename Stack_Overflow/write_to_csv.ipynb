{
 "cells": [
  {
   "cell_type": "markdown",
   "metadata": {},
   "source": [
    "[Write a list into CSV](https://stackoverflow.com/a/47404994/8709791)\n",
    "\n"
   ]
  },
  {
   "cell_type": "code",
   "execution_count": 1,
   "metadata": {
    "collapsed": false
   },
   "outputs": [
    {
     "data": {
      "text/html": [
       "<img src=\"https://i.stack.imgur.com/uusgN.png\"/>"
      ],
      "text/plain": [
       "<IPython.core.display.Image object>"
      ]
     },
     "execution_count": 1,
     "metadata": {},
     "output_type": "execute_result"
    }
   ],
   "source": [
    "country = ['Togo', 'Nauru', 'Palestine, State of', 'Malawi']\n",
    "\n",
    "# Write the above list to a CSV file, each item in a row, without an empty line between rows. \n",
    "# Look at the image below for what the output written to the file should look like.\n",
    "# Can't see the image here? If you happen to be online, run this cell or go to the link above.\n",
    "\n",
    "from IPython.display import Image\n",
    "from IPython.core.display import HTML\n",
    "Image(url=\"https://i.stack.imgur.com/uusgN.png\")\n"
   ]
  },
  {
   "cell_type": "code",
   "execution_count": null,
   "metadata": {
    "collapsed": true
   },
   "outputs": [],
   "source": [
    "import csv\n",
    "\n",
    "countries = ['Togo', 'Nauru', 'Palestine, State of', 'Malawi']\n",
    "\n",
    "with open('temp.csv', 'w') as output_write:\n",
    "    csvout = csv.writer(output_write, lineterminator='\\n')\n",
    "    for country in countries:\n",
    "         csvout.writerow([country])\n",
    "\n"
   ]
  }
 ],
 "metadata": {
  "kernelspec": {
   "display_name": "Python 3",
   "language": "python",
   "name": "python3"
  },
  "language_info": {
   "codemirror_mode": {
    "name": "ipython",
    "version": 3
   },
   "file_extension": ".py",
   "mimetype": "text/x-python",
   "name": "python",
   "nbconvert_exporter": "python",
   "pygments_lexer": "ipython3",
   "version": "3.6.0"
  }
 },
 "nbformat": 4,
 "nbformat_minor": 2
}
