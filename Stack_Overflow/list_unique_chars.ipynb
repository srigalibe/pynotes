{
 "cells": [
  {
   "cell_type": "markdown",
   "metadata": {},
   "source": [
    "[List of unique chars](https://stackoverflow.com/a/47916266/8709791)\n",
    "\n",
    "Define a function that takes a list like `['AC', 'AF', 'CF']` and returns a list of unique chars like `['A', 'C', 'F']` with the chars sorted."
   ]
  },
  {
   "cell_type": "code",
   "execution_count": null,
   "metadata": {
    "collapsed": false
   },
   "outputs": [],
   "source": [
    "def get_unique_chars(a_list):\n",
    "    \"\"\" Return a list of unique chars with the chars sorted.\n",
    "    \n",
    "    >>> get_unique_chars(['AC', 'AF', 'CF'])\n",
    "    ['A', 'C', 'F']\n",
    "    \"\"\"\n",
    "    \n",
    "    return sorted(set(''.join(a_list))) # sorted() returns a list\n",
    "\n",
    "get_unique_chars(['AC', 'AD', 'CD'])"
   ]
  },
  {
   "cell_type": "code",
   "execution_count": null,
   "metadata": {
    "collapsed": true
   },
   "outputs": [],
   "source": [
    "# Function used in main() to print \n",
    "# what each function returns vs. what it's supposed to return\n",
    "\n",
    "def test(returned, expected):\n",
    "    if returned == expected:\n",
    "        prefix = ' OK '\n",
    "    else:\n",
    "        prefix = '  X '\n",
    "    print('{0} returned: {1} expected: {2}'.format(prefix, repr(returned), repr(expected)))"
   ]
  },
  {
   "cell_type": "code",
   "execution_count": null,
   "metadata": {
    "collapsed": false
   },
   "outputs": [],
   "source": [
    "# Calls the above functions with interesting inputs.\n",
    "def main():\n",
    "    print('get_unique_chars')\n",
    "    test(get_unique_chars(['AC', 'AD', 'CD']), ['A', 'C', 'D'])\n",
    "    test(get_unique_chars(['AC', 'AF', 'CF']), ['A', 'C', 'F'])\n",
    "    \n",
    "\n",
    "if __name__ == '__main__':\n",
    "    main()"
   ]
  }
 ],
 "metadata": {
  "kernelspec": {
   "display_name": "Python 3",
   "language": "python",
   "name": "python3"
  },
  "language_info": {
   "codemirror_mode": {
    "name": "ipython",
    "version": 3
   },
   "file_extension": ".py",
   "mimetype": "text/x-python",
   "name": "python",
   "nbconvert_exporter": "python",
   "pygments_lexer": "ipython3",
   "version": "3.6.0"
  }
 },
 "nbformat": 4,
 "nbformat_minor": 2
}
